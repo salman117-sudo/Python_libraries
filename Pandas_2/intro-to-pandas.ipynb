{
 "cells": [
  {
   "cell_type": "code",
   "execution_count": 1,
   "id": "e79fe165-3703-4c67-ba04-936d0f47c560",
   "metadata": {},
   "outputs": [
    {
     "name": "stdout",
     "output_type": "stream",
     "text": [
      "    Name  Age  Salary\n",
      "0   john   25   30000\n",
      "1  peter   28   45000\n",
      "2   lisa   31   25000\n",
      "<class 'pandas.core.frame.DataFrame'>\n"
     ]
    }
   ],
   "source": [
    "import pandas as pd \n",
    "\n",
    "data = {\"Name\":[\"john\",\"peter\",\"lisa\"],\n",
    "         \"Age\":[25,28,31],\n",
    "         \"Salary\":[30000,45000,25000]}\n",
    "df = pd.DataFrame(data)\n",
    "print(df)   # create own data \n",
    "print(type(df)) # check the data type "
   ]
  },
  {
   "cell_type": "code",
   "execution_count": 2,
   "id": "e5ad475f-2d33-4bb5-b87c-d404413c54dd",
   "metadata": {},
   "outputs": [
    {
     "name": "stdout",
     "output_type": "stream",
     "text": [
      "   Unnamed: 0      Name gender  salary\n",
      "0           0    ayushi      F   20000\n",
      "1           1     rohit      M   25000\n",
      "2           2  pranjali      F   27000\n"
     ]
    }
   ],
   "source": [
    "import pandas as pd  # import csv files \n",
    "\n",
    "data = pd.read_csv(\"company.csv\")\n",
    "print(data)"
   ]
  },
  {
   "cell_type": "code",
   "execution_count": 3,
   "id": "c3de39f8-eb8f-4f3e-b95a-b8b1a4891578",
   "metadata": {},
   "outputs": [
    {
     "name": "stdout",
     "output_type": "stream",
     "text": [
      "     EEID        Full Name                 Job Title Department  \\\n",
      "0  E02387      Emily Davis                Sr. Manger         IT   \n",
      "1  E04105    Theodore Dinh       Technical Architect         IT   \n",
      "2  E02572     Luna Sanders                  Director    Finance   \n",
      "3  E02832  Penelope Jordan  Computer Systems Manager         IT   \n",
      "4  E01639        Austin Vo               Sr. Analyst    Finance   \n",
      "\n",
      "            Business Unit  Gender  Ethnicity  Age  Hire Date  Annual Salary  \\\n",
      "0  Research & Development  Female      Black   55 2016-04-08         141604   \n",
      "1           Manufacturing    Male      Asian   59 1997-11-29          99975   \n",
      "2     Speciality Products  Female  Caucasian   50 2006-10-26         163099   \n",
      "3           Manufacturing  Female  Caucasian   26 2019-09-27          84913   \n",
      "4           Manufacturing    Male      Asian   55 1995-11-20          95409   \n",
      "\n",
      "   Bonus %        Country       City  Exit Date  \n",
      "0     0.15  United States    Seattle 2021-10-16  \n",
      "1     0.00          China  Chongqing        NaT  \n",
      "2     0.20  United States    Chicago        NaT  \n",
      "3     0.07  United States    Chicago        NaT  \n",
      "4     0.00  United States    Phoenix        NaT  \n",
      "       EEID     Full Name       Job Title  Department        Business Unit  \\\n",
      "995  E03094  Wesley Young     Sr. Analyst   Marketing  Speciality Products   \n",
      "996  E01909  Lillian Khan         Analyst     Finance  Speciality Products   \n",
      "997  E04398   Oliver Yang        Director   Marketing  Speciality Products   \n",
      "998  E02521   Lily Nguyen     Sr. Analyst     Finance  Speciality Products   \n",
      "999  E03545   Sofia Cheng  Vice President  Accounting            Corporate   \n",
      "\n",
      "     Gender  Ethnicity  Age  Hire Date  Annual Salary  Bonus %        Country  \\\n",
      "995    Male  Caucasian   33 2016-09-18          98427     0.00  United States   \n",
      "996  Female      Asian   44 2010-05-31          47387     0.00          China   \n",
      "997    Male      Asian   31 2019-06-10         176710     0.15  United States   \n",
      "998  Female      Asian   33 2012-01-28          95960     0.00          China   \n",
      "999  Female      Asian   63 2020-07-26         216195     0.31  United States   \n",
      "\n",
      "         City  Exit Date  \n",
      "995  Columbus        NaT  \n",
      "996   Chengdu 2018-01-08  \n",
      "997     Miami        NaT  \n",
      "998   Chengdu        NaT  \n",
      "999     Miami        NaT  \n"
     ]
    }
   ],
   "source": [
    "import pandas as pd  # import excel file \n",
    "data1 = pd.read_excel(\"ESD.xlsx\")\n",
    "print(data1.head(5))\n",
    "print(data1.tail(5))"
   ]
  },
  {
   "cell_type": "markdown",
   "id": "627a910f-efbc-4034-900a-b19749a4808e",
   "metadata": {},
   "source": [
    "## Exploring data in pandas"
   ]
  },
  {
   "cell_type": "code",
   "execution_count": 4,
   "id": "b60de44d-9251-4992-8bf2-5995b036dad2",
   "metadata": {},
   "outputs": [
    {
     "name": "stdout",
     "output_type": "stream",
     "text": [
      "<class 'pandas.core.frame.DataFrame'>\n",
      "RangeIndex: 1000 entries, 0 to 999\n",
      "Data columns (total 14 columns):\n",
      " #   Column         Non-Null Count  Dtype         \n",
      "---  ------         --------------  -----         \n",
      " 0   EEID           1000 non-null   object        \n",
      " 1   Full Name      1000 non-null   object        \n",
      " 2   Job Title      1000 non-null   object        \n",
      " 3   Department     1000 non-null   object        \n",
      " 4   Business Unit  1000 non-null   object        \n",
      " 5   Gender         1000 non-null   object        \n",
      " 6   Ethnicity      1000 non-null   object        \n",
      " 7   Age            1000 non-null   int64         \n",
      " 8   Hire Date      1000 non-null   datetime64[ns]\n",
      " 9   Annual Salary  1000 non-null   int64         \n",
      " 10  Bonus %        1000 non-null   float64       \n",
      " 11  Country        1000 non-null   object        \n",
      " 12  City           1000 non-null   object        \n",
      " 13  Exit Date      85 non-null     datetime64[ns]\n",
      "dtypes: datetime64[ns](2), float64(1), int64(2), object(9)\n",
      "memory usage: 109.5+ KB\n",
      "None\n"
     ]
    }
   ],
   "source": [
    "print(data1.info())"
   ]
  },
  {
   "cell_type": "code",
   "execution_count": 5,
   "id": "fd841827-4774-4f6a-9085-4668cd7951c1",
   "metadata": {},
   "outputs": [
    {
     "data": {
      "text/html": [
       "<div>\n",
       "<style scoped>\n",
       "    .dataframe tbody tr th:only-of-type {\n",
       "        vertical-align: middle;\n",
       "    }\n",
       "\n",
       "    .dataframe tbody tr th {\n",
       "        vertical-align: top;\n",
       "    }\n",
       "\n",
       "    .dataframe thead th {\n",
       "        text-align: right;\n",
       "    }\n",
       "</style>\n",
       "<table border=\"1\" class=\"dataframe\">\n",
       "  <thead>\n",
       "    <tr style=\"text-align: right;\">\n",
       "      <th></th>\n",
       "      <th>Age</th>\n",
       "      <th>Hire Date</th>\n",
       "      <th>Annual Salary</th>\n",
       "      <th>Bonus %</th>\n",
       "      <th>Exit Date</th>\n",
       "    </tr>\n",
       "  </thead>\n",
       "  <tbody>\n",
       "    <tr>\n",
       "      <th>count</th>\n",
       "      <td>1000.000000</td>\n",
       "      <td>1000</td>\n",
       "      <td>1000.000000</td>\n",
       "      <td>1000.000000</td>\n",
       "      <td>85</td>\n",
       "    </tr>\n",
       "    <tr>\n",
       "      <th>mean</th>\n",
       "      <td>44.382000</td>\n",
       "      <td>2012-04-07 02:54:14.400000</td>\n",
       "      <td>113217.365000</td>\n",
       "      <td>0.088660</td>\n",
       "      <td>2016-11-02 18:04:14.117647104</td>\n",
       "    </tr>\n",
       "    <tr>\n",
       "      <th>min</th>\n",
       "      <td>25.000000</td>\n",
       "      <td>1992-01-09 00:00:00</td>\n",
       "      <td>40063.000000</td>\n",
       "      <td>0.000000</td>\n",
       "      <td>1994-12-18 00:00:00</td>\n",
       "    </tr>\n",
       "    <tr>\n",
       "      <th>25%</th>\n",
       "      <td>35.000000</td>\n",
       "      <td>2007-02-14 00:00:00</td>\n",
       "      <td>71430.250000</td>\n",
       "      <td>0.000000</td>\n",
       "      <td>2014-12-25 00:00:00</td>\n",
       "    </tr>\n",
       "    <tr>\n",
       "      <th>50%</th>\n",
       "      <td>45.000000</td>\n",
       "      <td>2014-02-15 12:00:00</td>\n",
       "      <td>96557.000000</td>\n",
       "      <td>0.000000</td>\n",
       "      <td>2019-05-23 00:00:00</td>\n",
       "    </tr>\n",
       "    <tr>\n",
       "      <th>75%</th>\n",
       "      <td>54.000000</td>\n",
       "      <td>2018-06-22 00:00:00</td>\n",
       "      <td>150782.250000</td>\n",
       "      <td>0.150000</td>\n",
       "      <td>2021-04-09 00:00:00</td>\n",
       "    </tr>\n",
       "    <tr>\n",
       "      <th>max</th>\n",
       "      <td>65.000000</td>\n",
       "      <td>2021-12-26 00:00:00</td>\n",
       "      <td>258498.000000</td>\n",
       "      <td>0.400000</td>\n",
       "      <td>2022-08-17 00:00:00</td>\n",
       "    </tr>\n",
       "    <tr>\n",
       "      <th>std</th>\n",
       "      <td>11.246981</td>\n",
       "      <td>NaN</td>\n",
       "      <td>53545.985644</td>\n",
       "      <td>0.117856</td>\n",
       "      <td>NaN</td>\n",
       "    </tr>\n",
       "  </tbody>\n",
       "</table>\n",
       "</div>"
      ],
      "text/plain": [
       "               Age                   Hire Date  Annual Salary      Bonus %  \\\n",
       "count  1000.000000                        1000    1000.000000  1000.000000   \n",
       "mean     44.382000  2012-04-07 02:54:14.400000  113217.365000     0.088660   \n",
       "min      25.000000         1992-01-09 00:00:00   40063.000000     0.000000   \n",
       "25%      35.000000         2007-02-14 00:00:00   71430.250000     0.000000   \n",
       "50%      45.000000         2014-02-15 12:00:00   96557.000000     0.000000   \n",
       "75%      54.000000         2018-06-22 00:00:00  150782.250000     0.150000   \n",
       "max      65.000000         2021-12-26 00:00:00  258498.000000     0.400000   \n",
       "std      11.246981                         NaN   53545.985644     0.117856   \n",
       "\n",
       "                           Exit Date  \n",
       "count                             85  \n",
       "mean   2016-11-02 18:04:14.117647104  \n",
       "min              1994-12-18 00:00:00  \n",
       "25%              2014-12-25 00:00:00  \n",
       "50%              2019-05-23 00:00:00  \n",
       "75%              2021-04-09 00:00:00  \n",
       "max              2022-08-17 00:00:00  \n",
       "std                              NaN  "
      ]
     },
     "execution_count": 5,
     "metadata": {},
     "output_type": "execute_result"
    }
   ],
   "source": [
    "data1.describe()"
   ]
  },
  {
   "cell_type": "code",
   "execution_count": 6,
   "id": "daf18177-fa50-429d-a357-b23e0e64338c",
   "metadata": {},
   "outputs": [
    {
     "data": {
      "text/plain": [
       "EEID               0\n",
       "Full Name          0\n",
       "Job Title          0\n",
       "Department         0\n",
       "Business Unit      0\n",
       "Gender             0\n",
       "Ethnicity          0\n",
       "Age                0\n",
       "Hire Date          0\n",
       "Annual Salary      0\n",
       "Bonus %            0\n",
       "Country            0\n",
       "City               0\n",
       "Exit Date        915\n",
       "dtype: int64"
      ]
     },
     "execution_count": 6,
     "metadata": {},
     "output_type": "execute_result"
    }
   ],
   "source": [
    "data1.isnull().sum()"
   ]
  },
  {
   "cell_type": "markdown",
   "id": "257dee82-d5f8-4832-98e4-78da18dfae36",
   "metadata": {},
   "source": [
    "##  Handling duplicate values in pandas "
   ]
  },
  {
   "cell_type": "code",
   "execution_count": 7,
   "id": "64728e90-f3a4-407a-8b23-34d8ea9da45d",
   "metadata": {},
   "outputs": [
    {
     "name": "stdout",
     "output_type": "stream",
     "text": [
      "   Unnamed: 0      Name gender  salary\n",
      "0           0    ayushi      F   20000\n",
      "1           1     rohit      M   25000\n",
      "2           2  pranjali      F   27000\n"
     ]
    }
   ],
   "source": [
    "import pandas as pd \n",
    "data12 = pd.read_csv(\"company1.csv\")\n",
    "print(data)"
   ]
  },
  {
   "cell_type": "code",
   "execution_count": 8,
   "id": "7f2d617e-2797-4a42-965a-4a130be320d2",
   "metadata": {},
   "outputs": [
    {
     "name": "stdout",
     "output_type": "stream",
     "text": [
      "0    False\n",
      "1    False\n",
      "2    False\n",
      "3    False\n",
      "4    False\n",
      "5    False\n",
      "6     True\n",
      "dtype: bool\n"
     ]
    }
   ],
   "source": [
    "print(data12.duplicated())"
   ]
  },
  {
   "cell_type": "code",
   "execution_count": 9,
   "id": "6db94786-3e36-4c60-af2a-a69717ef6ec6",
   "metadata": {},
   "outputs": [
    {
     "name": "stdout",
     "output_type": "stream",
     "text": [
      "0    False\n",
      "1    False\n",
      "2    False\n",
      "3     True\n",
      "4    False\n",
      "5    False\n",
      "6     True\n",
      "Name: EEID, dtype: bool\n"
     ]
    }
   ],
   "source": [
    "print(data12[\"EEID\"].duplicated())"
   ]
  },
  {
   "cell_type": "code",
   "execution_count": 10,
   "id": "c6393b38-670f-4364-88f6-79ec09f0d968",
   "metadata": {},
   "outputs": [
    {
     "name": "stdout",
     "output_type": "stream",
     "text": [
      "    EEID      Name gender   salary\n",
      "0  EMP01    ayushi      F      NaN\n",
      "1  EMP02     rohit      M  25000.0\n",
      "2  EMP03  pranjali    NaN  27000.0\n",
      "4  EMP05       NaN      M  25000.0\n",
      "5  EMP06     rohit      M      NaN\n"
     ]
    }
   ],
   "source": [
    "# remove duplicate values \n",
    "print(data12.drop_duplicates(\"EEID\"))"
   ]
  },
  {
   "cell_type": "markdown",
   "id": "e15f92c5-0fc0-49ab-8110-099474147f09",
   "metadata": {},
   "source": [
    "## Working with missing data in pandas"
   ]
  },
  {
   "cell_type": "code",
   "execution_count": 11,
   "id": "196db32e-6ae0-4ad8-a7d7-0ef794de8106",
   "metadata": {},
   "outputs": [],
   "source": [
    "#if we have data of numerical then we use mean mehhod to fill data like salary \n",
    "# or we have a data of string then we use forward and backward filling like name ,gender."
   ]
  },
  {
   "cell_type": "code",
   "execution_count": 12,
   "id": "2f3a0428-0f7f-47cc-90bc-ad46681940f7",
   "metadata": {},
   "outputs": [
    {
     "data": {
      "text/plain": [
       "EEID      0\n",
       "Name      1\n",
       "gender    1\n",
       "salary    2\n",
       "dtype: int64"
      ]
     },
     "execution_count": 12,
     "metadata": {},
     "output_type": "execute_result"
    }
   ],
   "source": [
    "data12.isnull().sum()"
   ]
  },
  {
   "cell_type": "code",
   "execution_count": 13,
   "id": "0bf4f828-753c-4f3d-a32b-3f7408847adb",
   "metadata": {},
   "outputs": [
    {
     "name": "stdout",
     "output_type": "stream",
     "text": [
      "    EEID    Name gender   salary\n",
      "1  EMP02   rohit      M  25000.0\n",
      "3  EMP01  ayushi      F  20000.0\n",
      "6  EMP02   rohit      M  25000.0\n"
     ]
    }
   ],
   "source": [
    "print(data12.dropna())"
   ]
  },
  {
   "cell_type": "code",
   "execution_count": 14,
   "id": "7da1cc38-5ea4-4e65-b2e4-f7dbda0ea6df",
   "metadata": {},
   "outputs": [
    {
     "name": "stdout",
     "output_type": "stream",
     "text": [
      "    EEID      Name gender   salary\n",
      "0  EMP01    ayushi      F      NaN\n",
      "1  EMP02     rohit      M  25000.0\n",
      "2  EMP03  pranjali    NaN  27000.0\n",
      "3  EMP01    ayushi      F  20000.0\n",
      "4  EMP05       NaN      M  25000.0\n",
      "5  EMP06     rohit      M      NaN\n",
      "6  EMP02     rohit      M  25000.0\n"
     ]
    }
   ],
   "source": [
    "print(data12)"
   ]
  },
  {
   "cell_type": "code",
   "execution_count": 15,
   "id": "e9a517da-9bc5-4527-b5c7-ebec308e3a2e",
   "metadata": {},
   "outputs": [],
   "source": [
    "#import numpy as np\n",
    "#data[\"salary\"] =  (data[\"salary\"].replace(np.nan,24400)) # puttung the values by find their mean  ,, \n",
    "#print(data)   "
   ]
  },
  {
   "cell_type": "code",
   "execution_count": 16,
   "id": "f70d0893-9a7a-4989-bc9c-5b45ae1d65ac",
   "metadata": {},
   "outputs": [
    {
     "name": "stdout",
     "output_type": "stream",
     "text": [
      "24400.0\n"
     ]
    }
   ],
   "source": [
    "print(data12[\"salary\"].mean())"
   ]
  },
  {
   "cell_type": "code",
   "execution_count": 17,
   "id": "768cb58f-7749-4d5b-b97a-4396e802a3d1",
   "metadata": {},
   "outputs": [
    {
     "name": "stdout",
     "output_type": "stream",
     "text": [
      "    EEID      Name gender   salary\n",
      "0  EMP01    ayushi      F      NaN\n",
      "1  EMP02     rohit      M  25000.0\n",
      "2  EMP03  pranjali    NaN  27000.0\n",
      "3  EMP01    ayushi      F  20000.0\n",
      "4  EMP05       NaN      M  25000.0\n",
      "5  EMP06     rohit      M      NaN\n",
      "6  EMP02     rohit      M  25000.0\n"
     ]
    }
   ],
   "source": [
    "print(data12)"
   ]
  },
  {
   "cell_type": "markdown",
   "id": "7d8e26a2-9c17-460e-9ac1-9f239ed40d69",
   "metadata": {},
   "source": [
    "## forward filling ,Backward filling "
   ]
  },
  {
   "cell_type": "code",
   "execution_count": 18,
   "id": "a0fa9290-35fa-4900-9bd3-7a8b7ac5b58d",
   "metadata": {},
   "outputs": [
    {
     "name": "stdout",
     "output_type": "stream",
     "text": [
      "    EEID      Name gender   salary\n",
      "0  EMP01    ayushi      F  25000.0\n",
      "1  EMP02     rohit      M  25000.0\n",
      "2  EMP03  pranjali      F  27000.0\n",
      "3  EMP01    ayushi      F  20000.0\n",
      "4  EMP05     rohit      M  25000.0\n",
      "5  EMP06     rohit      M  25000.0\n",
      "6  EMP02     rohit      M  25000.0\n"
     ]
    }
   ],
   "source": [
    "# we also use forward fill and backward fill   for those case when we have string data like name ,gender \n",
    "print(data12.fillna(method=\"bfill\"))\n"
   ]
  },
  {
   "cell_type": "code",
   "execution_count": 19,
   "id": "7e528274-27f3-4819-ba2b-78ecccd1e3c1",
   "metadata": {},
   "outputs": [
    {
     "name": "stdout",
     "output_type": "stream",
     "text": [
      "    EEID      Name gender   salary\n",
      "0  EMP01    ayushi      F      hyy\n",
      "1  EMP02     rohit      M  25000.0\n",
      "2  EMP03  pranjali    hyy  27000.0\n",
      "3  EMP01    ayushi      F  20000.0\n",
      "4  EMP05       hyy      M  25000.0\n",
      "5  EMP06     rohit      M      hyy\n",
      "6  EMP02     rohit      M  25000.0\n"
     ]
    }
   ],
   "source": [
    "print(data12.fillna(\"hyy\"))"
   ]
  },
  {
   "cell_type": "markdown",
   "id": "b89045c4-1f3f-49df-8820-3f7f2b28cf2a",
   "metadata": {},
   "source": [
    "## Column Transformation in Pandas  Part 1 "
   ]
  },
  {
   "cell_type": "code",
   "execution_count": 20,
   "id": "2281161d-7db3-42cc-bbf0-5aecab937b70",
   "metadata": {},
   "outputs": [
    {
     "name": "stdout",
     "output_type": "stream",
     "text": [
      "     EEID        Full Name                 Job Title  Department  \\\n",
      "0  E02387      Emily Davis                Sr. Manger          IT   \n",
      "1  E04105    Theodore Dinh       Technical Architect          IT   \n",
      "2  E02572     Luna Sanders                  Director     Finance   \n",
      "3  E02832  Penelope Jordan  Computer Systems Manager          IT   \n",
      "4  E01639        Austin Vo               Sr. Analyst     Finance   \n",
      "5  E00644     Joshua Gupta    Account Representative       Sales   \n",
      "6  E01550      Ruby Barnes                   Manager          IT   \n",
      "7  E04332      Luke Martin                   Analyst     Finance   \n",
      "8  E04533    Easton Bailey                   Manager  Accounting   \n",
      "9  E03838  Madeline Walker               Sr. Analyst     Finance   \n",
      "\n",
      "            Business Unit  Gender  Ethnicity  Age  Hire Date  Annual Salary  \\\n",
      "0  Research & Development  Female      Black   55 2016-04-08         141604   \n",
      "1           Manufacturing    Male      Asian   59 1997-11-29          99975   \n",
      "2     Speciality Products  Female  Caucasian   50 2006-10-26         163099   \n",
      "3           Manufacturing  Female  Caucasian   26 2019-09-27          84913   \n",
      "4           Manufacturing    Male      Asian   55 1995-11-20          95409   \n",
      "5               Corporate    Male      Asian   57 2017-01-24          50994   \n",
      "6               Corporate  Female  Caucasian   27 2020-07-01         119746   \n",
      "7           Manufacturing    Male      Black   25 2020-05-16          41336   \n",
      "8           Manufacturing    Male  Caucasian   29 2019-01-25         113527   \n",
      "9     Speciality Products  Female  Caucasian   34 2018-06-13          77203   \n",
      "\n",
      "   Bonus %        Country       City  Exit Date  getBonus  \n",
      "0     0.15  United States    Seattle 2021-10-16     Bonus  \n",
      "1     0.00          China  Chongqing        NaT  no Bonus  \n",
      "2     0.20  United States    Chicago        NaT     Bonus  \n",
      "3     0.07  United States    Chicago        NaT     Bonus  \n",
      "4     0.00  United States    Phoenix        NaT  no Bonus  \n",
      "5     0.00          China  Chongqing        NaT  no Bonus  \n",
      "6     0.10  United States    Phoenix        NaT     Bonus  \n",
      "7     0.00  United States      Miami 2021-05-20  no Bonus  \n",
      "8     0.06  United States     Austin        NaT     Bonus  \n",
      "9     0.00  United States    Chicago        NaT  no Bonus  \n"
     ]
    }
   ],
   "source": [
    "import pandas as pd \n",
    "df = pd.read_excel(\"ESD.xlsx\")\n",
    "#print(data3)\n",
    "# for creating new column in the data \n",
    "df.loc[df[\"Bonus %\"] == 0, \"getBonus\"] = \"no Bonus\"\n",
    "df.loc[df[\"Bonus %\"] > 0, \"getBonus\"] = \"Bonus\"\n",
    "\n",
    "\n",
    "print(df.head(10))"
   ]
  },
  {
   "cell_type": "code",
   "execution_count": null,
   "id": "95f85d82-f526-4c6e-af79-4b108f4e98c5",
   "metadata": {},
   "outputs": [],
   "source": []
  },
  {
   "cell_type": "code",
   "execution_count": 21,
   "id": "47a73e3a-ccbb-4d8e-92ef-4be6518e3406",
   "metadata": {},
   "outputs": [
    {
     "name": "stdout",
     "output_type": "stream",
     "text": [
      "    EEID      Name gender   salary\n",
      "0  EMP01    ayushi      F      NaN\n",
      "1  EMP02     rohit      M  25000.0\n",
      "2  EMP03  pranjali    NaN  27000.0\n",
      "3  EMP01    ayushi      F  20000.0\n",
      "4  EMP05       NaN      M  25000.0\n",
      "5  EMP06     rohit      M      NaN\n",
      "6  EMP02     rohit      M  25000.0\n"
     ]
    }
   ],
   "source": [
    "# if i want to join to name each other like first name ans last name we can concatenete but we have different example \n",
    "import pandas as pd \n",
    "data12 = pd.read_csv(\"company1.csv\")\n",
    "print(data12)"
   ]
  },
  {
   "cell_type": "code",
   "execution_count": 22,
   "id": "ed4677a4-fe57-4e77-9185-c485725a9d0f",
   "metadata": {},
   "outputs": [
    {
     "name": "stdout",
     "output_type": "stream",
     "text": [
      "    EEID      Name gender   salary Full-Name\n",
      "0  EMP01    ayushi      F      NaN  Ayushi F\n",
      "1  EMP02     rohit      M  25000.0   Rohit M\n",
      "2  EMP03  pranjali    NaN  27000.0       NaN\n",
      "3  EMP01    ayushi      F  20000.0  Ayushi F\n",
      "4  EMP05       NaN      M  25000.0       NaN\n",
      "5  EMP06     rohit      M      NaN   Rohit M\n",
      "6  EMP02     rohit      M  25000.0   Rohit M\n",
      "\n",
      "    EEID      Name gender   salary Full-Name\n",
      "0  EMP01    ayushi      F  25000.0  Ayushi F\n",
      "1  EMP02     rohit      M  25000.0   Rohit M\n",
      "2  EMP03  pranjali      F  27000.0  Ayushi F\n",
      "3  EMP01    ayushi      F  20000.0  Ayushi F\n",
      "4  EMP05     rohit      M  25000.0   Rohit M\n",
      "5  EMP06     rohit      M  25000.0   Rohit M\n",
      "6  EMP02     rohit      M  25000.0   Rohit M\n"
     ]
    }
   ],
   "source": [
    "data12[\"Full-Name\"] = data12[\"Name\"].str.capitalize() +\" \"+data12[\"gender\"]\n",
    "print(data12)\n",
    "\n",
    "print()\n",
    "\n",
    "print(data12.fillna(method=\"bfill\"))\n",
    "\n"
   ]
  },
  {
   "cell_type": "markdown",
   "id": "849ab9ee-cec8-4d6d-b507-5d9cad8b0396",
   "metadata": {},
   "source": [
    "##  Column transformation part 2 "
   ]
  },
  {
   "cell_type": "code",
   "execution_count": 23,
   "id": "decc0466-7eaf-4af5-865b-55762f71a8c4",
   "metadata": {},
   "outputs": [
    {
     "name": "stdout",
     "output_type": "stream",
     "text": [
      "    EEID      Name gender   salary\n",
      "0  EMP01    ayushi      F      NaN\n",
      "1  EMP02     rohit      M  25000.0\n",
      "2  EMP03  pranjali    NaN  27000.0\n",
      "3  EMP01    ayushi      F  20000.0\n",
      "4  EMP05       NaN      M  25000.0\n",
      "5  EMP06     rohit      M      NaN\n",
      "6  EMP02     rohit      M  25000.0\n"
     ]
    }
   ],
   "source": [
    "import pandas as pd \n",
    "data5 = pd.read_csv(\"company1.csv\")\n",
    "print(data5)"
   ]
  },
  {
   "cell_type": "code",
   "execution_count": 24,
   "id": "8d8ccc3e-6c30-4b98-8a30-700b3db684ae",
   "metadata": {},
   "outputs": [
    {
     "name": "stdout",
     "output_type": "stream",
     "text": [
      "    EEID      Name gender   salary   Bonus\n",
      "0  EMP01    ayushi      F  25000.0  5000.0\n",
      "1  EMP02     rohit      M  25000.0  5000.0\n",
      "2  EMP03  pranjali      F  27000.0  5400.0\n",
      "3  EMP01    ayushi      F  20000.0  4000.0\n",
      "4  EMP05     rohit      M  25000.0  5000.0\n",
      "5  EMP06     rohit      M  25000.0  5000.0\n",
      "6  EMP02     rohit      M  25000.0  5000.0\n"
     ]
    }
   ],
   "source": [
    "data5[\"Bonus\"] = (data5[\"salary\"]/100)*20   # find the 20 % bonus on the salary \n",
    "print(data5.fillna(method=\"bfill\"))\n"
   ]
  },
  {
   "cell_type": "code",
   "execution_count": 25,
   "id": "a96818f7-a629-4312-8da9-079df930fb77",
   "metadata": {},
   "outputs": [
    {
     "name": "stdout",
     "output_type": "stream",
     "text": [
      "      Month\n",
      "0   january\n",
      "1  feburary\n",
      "2     march\n",
      "3     april\n",
      "\n",
      "      Month Short_months\n",
      "0   january          jan\n",
      "1  feburary          feb\n",
      "2     march          mar\n",
      "3     april          apr\n"
     ]
    }
   ],
   "source": [
    "data11 = {\"Month\":[\"january\",\"feburary\",\"march\",\"april\"]}\n",
    "a = pd.DataFrame(data11)\n",
    "\n",
    "print(a)\n",
    "print()\n",
    "def extract(values):\n",
    "    return values[0:3]\n",
    "\n",
    "a[\"Short_months\"] = a[\"Month\"].map(extract)   # if we create a function  he will apply on the all the values applying mapping \n",
    "print(a)"
   ]
  },
  {
   "cell_type": "markdown",
   "id": "ded2095a-7b2f-4ed2-8ec3-f53bbb055e4d",
   "metadata": {},
   "source": [
    "## Python pandas - group-by"
   ]
  },
  {
   "cell_type": "code",
   "execution_count": 26,
   "id": "672ec456-5502-4a01-8fb9-b596a890f05f",
   "metadata": {},
   "outputs": [
    {
     "name": "stdout",
     "output_type": "stream",
     "text": [
      "     EEID        Full Name                 Job Title  Department  \\\n",
      "0  E02387      Emily Davis                Sr. Manger          IT   \n",
      "1  E04105    Theodore Dinh       Technical Architect          IT   \n",
      "2  E02572     Luna Sanders                  Director     Finance   \n",
      "3  E02832  Penelope Jordan  Computer Systems Manager          IT   \n",
      "4  E01639        Austin Vo               Sr. Analyst     Finance   \n",
      "5  E00644     Joshua Gupta    Account Representative       Sales   \n",
      "6  E01550      Ruby Barnes                   Manager          IT   \n",
      "7  E04332      Luke Martin                   Analyst     Finance   \n",
      "8  E04533    Easton Bailey                   Manager  Accounting   \n",
      "9  E03838  Madeline Walker               Sr. Analyst     Finance   \n",
      "\n",
      "            Business Unit  Gender  Ethnicity  Age  Hire Date  Annual Salary  \\\n",
      "0  Research & Development  Female      Black   55 2016-04-08         141604   \n",
      "1           Manufacturing    Male      Asian   59 1997-11-29          99975   \n",
      "2     Speciality Products  Female  Caucasian   50 2006-10-26         163099   \n",
      "3           Manufacturing  Female  Caucasian   26 2019-09-27          84913   \n",
      "4           Manufacturing    Male      Asian   55 1995-11-20          95409   \n",
      "5               Corporate    Male      Asian   57 2017-01-24          50994   \n",
      "6               Corporate  Female  Caucasian   27 2020-07-01         119746   \n",
      "7           Manufacturing    Male      Black   25 2020-05-16          41336   \n",
      "8           Manufacturing    Male  Caucasian   29 2019-01-25         113527   \n",
      "9     Speciality Products  Female  Caucasian   34 2018-06-13          77203   \n",
      "\n",
      "   Bonus %        Country       City  Exit Date  \n",
      "0     0.15  United States    Seattle 2021-10-16  \n",
      "1     0.00          China  Chongqing        NaT  \n",
      "2     0.20  United States    Chicago        NaT  \n",
      "3     0.07  United States    Chicago        NaT  \n",
      "4     0.00  United States    Phoenix        NaT  \n",
      "5     0.00          China  Chongqing        NaT  \n",
      "6     0.10  United States    Phoenix        NaT  \n",
      "7     0.00  United States      Miami 2021-05-20  \n",
      "8     0.06  United States     Austin        NaT  \n",
      "9     0.00  United States    Chicago        NaT  \n"
     ]
    }
   ],
   "source": [
    "# foe summarizing our data using group by function if we have a large data to understand \n",
    "import pandas as pd  \n",
    "group = pd.read_excel(\"ESD.xlsx\")\n",
    "print(group.head(10))  # according to this data we cant understand  then we use group by function "
   ]
  },
  {
   "cell_type": "code",
   "execution_count": 27,
   "id": "5b3278a7-c0b6-4105-8ebd-3789c3d96060",
   "metadata": {},
   "outputs": [
    {
     "name": "stdout",
     "output_type": "stream",
     "text": [
      "                        EEID\n",
      "Department      Gender      \n",
      "Accounting      Female    53\n",
      "                Male      43\n",
      "Engineering     Female    80\n",
      "                Male      78\n",
      "Finance         Female    69\n",
      "                Male      51\n",
      "Human Resources Female    64\n",
      "                Male      61\n",
      "IT              Female   119\n",
      "                Male     122\n",
      "Marketing       Female    57\n",
      "                Male      63\n",
      "Sales           Female    76\n",
      "                Male      64\n"
     ]
    }
   ],
   "source": [
    "gp = group.groupby([\"Department\",\"Gender\"]).agg({\"EEID\":\"count\"})  # applying 2 level of group by first departenmt and second gender wise , .agg use for count \n",
    "print(gp)"
   ]
  },
  {
   "cell_type": "code",
   "execution_count": 28,
   "id": "f06448c1-c05a-49b2-9e45-323a61405739",
   "metadata": {},
   "outputs": [
    {
     "name": "stdout",
     "output_type": "stream",
     "text": [
      "                      Annual Salary  Age\n",
      "Country       Gender                    \n",
      "Brazil        Female         258426   25\n",
      "              Male           249506   26\n",
      "China         Female         249686   25\n",
      "              Male           257194   25\n",
      "United States Female         258498   25\n",
      "              Male           258081   25\n"
     ]
    }
   ],
   "source": [
    "gp1= group.groupby([\"Country\",\"Gender\"]).agg({\"Annual Salary\":\"max\",\"Age\":\"min\"})\n",
    "print(gp1)"
   ]
  },
  {
   "cell_type": "markdown",
   "id": "8b7248d0-e5f6-4111-b9e6-14de8aeea2ff",
   "metadata": {},
   "source": [
    "##  Merge concatenate and join pandas "
   ]
  },
  {
   "cell_type": "code",
   "execution_count": 29,
   "id": "75a10e02-529f-466d-a1ae-685c3e57b67b",
   "metadata": {},
   "outputs": [
    {
     "name": "stdout",
     "output_type": "stream",
     "text": [
      "  Emp id   Names  Age\n",
      "0    E01     Ram   34\n",
      "1    E02   Shyam   56\n",
      "2    E03   Rahul   23\n",
      "3    E04   usman   44\n",
      "4    E05  salman   32\n",
      "5    E06     ali   36\n",
      "\n",
      "  Emp id  Salary\n",
      "0    E01   45000\n",
      "1    E02   56000\n",
      "2    E03   34000\n",
      "3    E04   30000\n",
      "4    E05   50000\n",
      "5    E06   62000\n"
     ]
    }
   ],
   "source": [
    "import pandas as pd \n",
    "data1 = {\"Emp id\":[\"E01\",\"E02\",\"E03\",\"E04\",\"E05\",\"E06\"],\n",
    "      \"Names\":[\"Ram\",\"Shyam\",\"Rahul\",\"usman\",\"salman\",\"ali\"],\n",
    "      \"Age\":[34,56,23,44,32,36]}\n",
    "data2 =  {\"Emp id\":[\"E01\",\"E02\",\"E03\",\"E04\",\"E05\",\"E06\"],\n",
    "       \"Salary\":[45000,56000,34000,30000,50000,62000]}\n",
    "\n",
    "df1 = pd.DataFrame(data1)\n",
    "df2 = pd.DataFrame(data2)\n",
    "\n",
    "print(df1)\n",
    "print()\n",
    "print(df2)"
   ]
  },
  {
   "cell_type": "code",
   "execution_count": 30,
   "id": "b445a4f5-6ffc-44da-824e-8a9a3a307838",
   "metadata": {},
   "outputs": [
    {
     "name": "stdout",
     "output_type": "stream",
     "text": [
      "  Emp id   Names  Age  Salary\n",
      "0    E01     Ram   34   45000\n",
      "1    E02   Shyam   56   56000\n",
      "2    E03   Rahul   23   34000\n",
      "3    E04   usman   44   30000\n",
      "4    E05  salman   32   50000\n",
      "5    E06     ali   36   62000\n"
     ]
    }
   ],
   "source": [
    "print(pd.merge(df1,df2,on= \"Emp id\"))    # on mean on the basis of  emplye id "
   ]
  },
  {
   "cell_type": "code",
   "execution_count": 31,
   "id": "91c24b4d-25d6-43e9-965f-5a57bace9b50",
   "metadata": {},
   "outputs": [
    {
     "name": "stdout",
     "output_type": "stream",
     "text": [
      "  Emp id   Names  Age\n",
      "0    E01     Ram   34\n",
      "1    E02   Shyam   56\n",
      "2    E03   Rahul   23\n",
      "3    E04   usman   44\n",
      "4    E05  salman   32\n",
      "5    E06     ali   36\n",
      "\n",
      "  Emp id  Salary\n",
      "0    E01   45000\n",
      "1    E07   56000\n",
      "2    E03   34000\n",
      "3    E04   30000\n",
      "4    E08   50000\n",
      "5    E06   62000\n"
     ]
    }
   ],
   "source": [
    "import pandas as pd \n",
    "data1 = {\"Emp id\":[\"E01\",\"E02\",\"E03\",\"E04\",\"E05\",\"E06\"],\n",
    "      \"Names\":[\"Ram\",\"Shyam\",\"Rahul\",\"usman\",\"salman\",\"ali\"],\n",
    "      \"Age\":[34,56,23,44,32,36]}\n",
    "data2 =  {\"Emp id\":[\"E01\",\"E07\",\"E03\",\"E04\",\"E08\",\"E06\"],   # change the data  \n",
    "       \"Salary\":[45000,56000,34000,30000,50000,62000]}\n",
    "\n",
    "df1 = pd.DataFrame(data1)\n",
    "df2 = pd.DataFrame(data2)\n",
    "\n",
    "print(df1)\n",
    "print()\n",
    "print(df2)"
   ]
  },
  {
   "cell_type": "code",
   "execution_count": 32,
   "id": "17139b1b-e9e4-4f26-bff8-2e4e3e9792dc",
   "metadata": {},
   "outputs": [
    {
     "name": "stdout",
     "output_type": "stream",
     "text": [
      "  Emp id   Names  Age   Salary\n",
      "0    E01     Ram   34  45000.0\n",
      "1    E02   Shyam   56      NaN\n",
      "2    E03   Rahul   23  34000.0\n",
      "3    E04   usman   44  30000.0\n",
      "4    E05  salman   32      NaN\n",
      "5    E06     ali   36  62000.0\n"
     ]
    }
   ],
   "source": [
    "print(pd.merge(left = df1, right= df2,on= \"Emp id\", how= \"left\"))  # left show all data but right show nan \n",
    "# it will miss 2 and 4 because they are not same in df1   "
   ]
  },
  {
   "cell_type": "code",
   "execution_count": 33,
   "id": "9a6859b5-ea3a-4957-9187-9f190b1a72a7",
   "metadata": {},
   "outputs": [
    {
     "name": "stdout",
     "output_type": "stream",
     "text": [
      "  Emp id  Names   Age  Salary\n",
      "0    E01    Ram  34.0   45000\n",
      "1    E07    NaN   NaN   56000\n",
      "2    E03  Rahul  23.0   34000\n",
      "3    E04  usman  44.0   30000\n",
      "4    E08    NaN   NaN   50000\n",
      "5    E06    ali  36.0   62000\n"
     ]
    }
   ],
   "source": [
    "print(pd.merge(left = df1, right= df2,on= \"Emp id\", how= \"right\"))   # passing right  then in left show nan "
   ]
  },
  {
   "cell_type": "code",
   "execution_count": 34,
   "id": "e79c706c-13a1-4dda-9b03-96cc46b20a9b",
   "metadata": {},
   "outputs": [],
   "source": [
    "# concatenate precess have same dataframe\n",
    "import pandas as pd \n",
    "data00 = {\"Emp id\":[\"E01\",\"E02\",\"E03\",\"E04\",\"E05\",\"E06\"],\n",
    "      \"Names\":[\"Ram\",\"Shyam\",\"Rahul\",\"usman\",\"salman\",\"ali\"],\n",
    "      \"Age\":[34,56,23,44,32,36]}\n",
    "\n",
    "data99 = {\"Emp id\":[\"E07\",\"E08\",\"E09\",\"E010\",\"E011\",\"E012\"],\n",
    "      \"Names\":[\"waleed\",\"rehan\",\"amir\",\"huzaifa\",\"rana\",\"salo\"],\n",
    "      \"Age\":[34,56,23,44,32,36]}\n",
    "df3 = pd.DataFrame(data00)\n",
    "df4 = pd.DataFrame(data99)"
   ]
  },
  {
   "cell_type": "code",
   "execution_count": 35,
   "id": "6d8259e1-d6dc-4760-b4d4-35986f30ee09",
   "metadata": {},
   "outputs": [
    {
     "name": "stdout",
     "output_type": "stream",
     "text": [
      "  Emp id    Names  Age\n",
      "0    E01      Ram   34\n",
      "1    E02    Shyam   56\n",
      "2    E03    Rahul   23\n",
      "3    E04    usman   44\n",
      "4    E05   salman   32\n",
      "5    E06      ali   36\n",
      "0    E07   waleed   34\n",
      "1    E08    rehan   56\n",
      "2    E09     amir   23\n",
      "3   E010  huzaifa   44\n",
      "4   E011     rana   32\n",
      "5   E012     salo   36\n"
     ]
    }
   ],
   "source": [
    "print(pd.concat([df3,df4]))"
   ]
  },
  {
   "cell_type": "markdown",
   "id": "6472b3bb-f817-4ff8-935c-64325bee8792",
   "metadata": {},
   "source": [
    "## Comapre dataframe in pandas "
   ]
  },
  {
   "cell_type": "code",
   "execution_count": 36,
   "id": "71f3225f-97c2-4320-b694-d41320f79b15",
   "metadata": {},
   "outputs": [
    {
     "name": "stdout",
     "output_type": "stream",
     "text": [
      "       EEID        Full Name                 Job Title  Department  \\\n",
      "0    E02387      Emily Davis                Sr. Manger          IT   \n",
      "1    E04105    Theodore Dinh       Technical Architect          IT   \n",
      "2    E02572     Luna Sanders                  Director     Finance   \n",
      "3    E02832  Penelope Jordan  Computer Systems Manager          IT   \n",
      "4    E01639        Austin Vo               Sr. Analyst     Finance   \n",
      "..      ...              ...                       ...         ...   \n",
      "995  E03094     Wesley Young               Sr. Analyst   Marketing   \n",
      "996  E01909     Lillian Khan                   Analyst     Finance   \n",
      "997  E04398      Oliver Yang                  Director   Marketing   \n",
      "998  E02521      Lily Nguyen               Sr. Analyst     Finance   \n",
      "999  E03545      Sofia Cheng            Vice President  Accounting   \n",
      "\n",
      "              Business Unit  Gender  Ethnicity  Age  Hire Date  Annual Salary  \\\n",
      "0    Research & Development  Female      Black   55 2016-04-08         141604   \n",
      "1             Manufacturing    Male      Asian   59 1997-11-29          99975   \n",
      "2       Speciality Products  Female  Caucasian   50 2006-10-26         163099   \n",
      "3             Manufacturing  Female  Caucasian   26 2019-09-27          84913   \n",
      "4             Manufacturing    Male      Asian   55 1995-11-20          95409   \n",
      "..                      ...     ...        ...  ...        ...            ...   \n",
      "995     Speciality Products    Male  Caucasian   33 2016-09-18          98427   \n",
      "996     Speciality Products  Female      Asian   44 2010-05-31          47387   \n",
      "997     Speciality Products    Male      Asian   31 2019-06-10         176710   \n",
      "998     Speciality Products  Female      Asian   33 2012-01-28          95960   \n",
      "999               Corporate  Female      Asian   63 2020-07-26         216195   \n",
      "\n",
      "     Bonus %        Country       City  Exit Date  getBonus  \n",
      "0       0.15  United States    Seattle 2021-10-16     Bonus  \n",
      "1       0.00          China  Chongqing        NaT  no Bonus  \n",
      "2       0.20  United States    Chicago        NaT     Bonus  \n",
      "3       0.07  United States    Chicago        NaT     Bonus  \n",
      "4       0.00  United States    Phoenix        NaT  no Bonus  \n",
      "..       ...            ...        ...        ...       ...  \n",
      "995     0.00  United States   Columbus        NaT  no Bonus  \n",
      "996     0.00          China    Chengdu 2018-01-08  no Bonus  \n",
      "997     0.15  United States      Miami        NaT     Bonus  \n",
      "998     0.00          China    Chengdu        NaT  no Bonus  \n",
      "999     0.31  United States      Miami        NaT     Bonus  \n",
      "\n",
      "[1000 rows x 15 columns]\n",
      "\n",
      "    fruits  Price  Quantity\n",
      "0  Mangoes    100        15\n",
      "1    Apple    150        10\n",
      "2   Banana     50        10\n",
      "3   Orange     35         3\n",
      "\n",
      "    fruits  Price  Quantity\n",
      "0  Mangoes    120        12\n",
      "1    Apple    175        15\n",
      "2   Banana     50        10\n",
      "3   Orange     30         5\n"
     ]
    }
   ],
   "source": [
    "\n",
    "# comapre  two dataframe \n",
    "import pandas as pd \n",
    "dict = {\"fruits\":[\"Mangoes\",\"Apple\",\"Banana\",\"Orange\"],\n",
    "       \"Price\":[100,150,50,35],\n",
    "       \"Quantity\":[15,10,10,3]}\n",
    "\n",
    "dy1 = pd.DataFrame(dict)\n",
    "print(df)\n",
    "print()\n",
    "dy2 = dy1.copy()\n",
    "print(dy2)\n",
    "print()\n",
    "dy2.loc[0,\"Price\"]= 120\n",
    "dy2.loc[1,\"Price\"]= 175\n",
    "dy2.loc[3,\"Price\"]= 30\n",
    "\n",
    "dy2.loc[0,\"Quantity\"]= 12\n",
    "dy2.loc[1,\"Quantity\"]= 15\n",
    "dy2.loc[3,\"Quantity\"]= 5\n",
    "\n",
    "print(dy2)\n",
    "\n"
   ]
  },
  {
   "cell_type": "code",
   "execution_count": 37,
   "id": "1aefd0b5-cf54-4a8f-92ff-f69d80ebdb12",
   "metadata": {},
   "outputs": [
    {
     "name": "stdout",
     "output_type": "stream",
     "text": [
      "   Price        Quantity      \n",
      "    self  other     self other\n",
      "0  100.0  120.0     15.0  12.0\n",
      "1  150.0  175.0     10.0  15.0\n",
      "3   35.0   30.0      3.0   5.0\n"
     ]
    }
   ],
   "source": [
    "print(dy1.compare(dy2))"
   ]
  },
  {
   "cell_type": "code",
   "execution_count": 38,
   "id": "c5b9addb-fcaf-4cbb-aa3f-fb8c0b3fb2cd",
   "metadata": {},
   "outputs": [
    {
     "name": "stdout",
     "output_type": "stream",
     "text": [
      "         Price  Quantity\n",
      "0 self   100.0      15.0\n",
      "  other  120.0      12.0\n",
      "1 self   150.0      10.0\n",
      "  other  175.0      15.0\n",
      "3 self    35.0       3.0\n",
      "  other   30.0       5.0\n"
     ]
    }
   ],
   "source": [
    "print(dy1.compare(dy2,align_axis=0))"
   ]
  },
  {
   "cell_type": "markdown",
   "id": "948b8284-2b39-43ea-ab2a-ce214d75ea6f",
   "metadata": {},
   "source": [
    "## pivoting and melting Datafames"
   ]
  },
  {
   "cell_type": "code",
   "execution_count": 39,
   "id": "0e77011c-d54b-44bd-8732-bf14c2f3be55",
   "metadata": {},
   "outputs": [
    {
     "name": "stdout",
     "output_type": "stream",
     "text": [
      "  Keys  Names Houses Grades\n",
      "0   k1   john    red    3rd\n",
      "1   k2    ben   blue    8th\n",
      "2   k1  david  green    9th\n",
      "3   k2  peter    red    8th\n",
      "\n",
      "      Houses                   Grades                 \n",
      "Names    ben  david john peter    ben david john peter\n",
      "Keys                                                  \n",
      "k1       NaN  green  red   NaN    NaN   9th  3rd   NaN\n",
      "k2      blue    NaN  NaN   red    8th   NaN  NaN   8th\n"
     ]
    }
   ],
   "source": [
    "# in pivot we have three thing index,column name and values \n",
    "import pandas as pd \n",
    "dict = {\"Keys\":[\"k1\",\"k2\",\"k1\",\"k2\"],\n",
    "       \"Names\":[\"john\",\"ben\",\"david\",\"peter\"],\n",
    "       \"Houses\":[\"red\",\"blue\",\"green\",\"red\"],\n",
    "       \"Grades\":[\"3rd\",\"8th\",\"9th\",\"8th\"]}\n",
    "\n",
    "df = pd.DataFrame(dict)\n",
    "print(df)\n",
    "print()\n",
    "print(df.pivot(index=\"Keys\", columns=\"Names\", values=[\"Houses\", \"Grades\"]))"
   ]
  },
  {
   "cell_type": "code",
   "execution_count": 44,
   "id": "a57f328a-cc3c-4dbf-810d-086d979b61e0",
   "metadata": {},
   "outputs": [
    {
     "name": "stdout",
     "output_type": "stream",
     "text": [
      "   Names Houses Grades\n",
      "0   john    red    3rd\n",
      "1    ben   blue    8th\n",
      "2  david  green    9th\n",
      "3  peter    red    8th\n",
      "\n",
      "   Names variable  value\n",
      "0   john   Houses    red\n",
      "1    ben   Houses   blue\n",
      "2  david   Houses  green\n",
      "3  peter   Houses    red\n",
      "4   john   Grades    3rd\n",
      "5    ben   Grades    8th\n",
      "6  david   Grades    9th\n",
      "7  peter   Grades    8th\n"
     ]
    }
   ],
   "source": [
    "# Melting in pandas \n",
    "import pandas as pd \n",
    "dict = { \"Names\":[\"john\",\"ben\",\"david\",\"peter\"],\n",
    "       \"Houses\":[\"red\",\"blue\",\"green\",\"red\"],\n",
    "       \"Grades\":[\"3rd\",\"8th\",\"9th\",\"8th\"]}\n",
    "df= pd.DataFrame(dict)\n",
    "print(df)\n",
    "print()\n",
    "print(pd.melt(df, id_vars=[\"Names\"],value_vars=[\"Houses\",\"Grades\"]))"
   ]
  },
  {
   "cell_type": "markdown",
   "id": "b1fe3dff-0bed-448b-8d7d-58a021e5b0d0",
   "metadata": {},
   "source": [
    "## Series in pandas "
   ]
  },
  {
   "cell_type": "code",
   "execution_count": 47,
   "id": "88e33d6c-f887-4f5c-97e0-2216370e03d4",
   "metadata": {},
   "outputs": [
    {
     "name": "stdout",
     "output_type": "stream",
     "text": [
      "0    5\n",
      "1    6\n",
      "2    7\n",
      "3    8\n",
      "dtype: int64\n",
      "\n",
      "<class 'pandas.core.series.Series'>\n",
      "7\n"
     ]
    }
   ],
   "source": [
    "import pandas as pd \n",
    "x = [5,6,7,8]\n",
    "var = pd.Series(x)\n",
    "print(var)\n",
    "print()\n",
    "print(type(var))   # this shoow is a series data structre \n",
    "print(var[2])    # accessign element using index value "
   ]
  },
  {
   "cell_type": "code",
   "execution_count": 51,
   "id": "16e6482d-9f35-4846-b7b4-0f6b9dedc514",
   "metadata": {},
   "outputs": [
    {
     "name": "stdout",
     "output_type": "stream",
     "text": [
      "a    5\n",
      "s    6\n",
      "d    7\n",
      "f    8\n",
      "dtype: int64\n",
      "<class 'pandas.core.series.Series'>\n",
      "7\n"
     ]
    }
   ],
   "source": [
    "import pandas as pd\n",
    "\n",
    "x=[5,6,7,8]\n",
    "\n",
    "var = pd.Series(x,index=['a','s','d','f'])   # if we want index not start from 0 it start from this \n",
    "print(var)\n",
    "print(type(var))   # check the type \n",
    "print(var[2])  # accesiing through index number"
   ]
  },
  {
   "cell_type": "code",
   "execution_count": 52,
   "id": "9d335ada-df14-4a07-9b7b-cae4aa74c709",
   "metadata": {},
   "outputs": [
    {
     "name": "stdout",
     "output_type": "stream",
     "text": [
      "a    5.0\n",
      "s    6.0\n",
      "d    7.0\n",
      "f    8.0\n",
      "Name: Python, dtype: float64\n",
      "<class 'pandas.core.series.Series'>\n",
      "7.0\n"
     ]
    }
   ],
   "source": [
    "import pandas as pd\n",
    "\n",
    "x=[5,6,7,8] # we use list but also pass tuple ,dictonary \n",
    "\n",
    "var = pd.Series(x,index=['a','s','d','f'],dtype=\"float\",name=\"Python\")   # if we want index not start from 0 it start from this  also change datatypes\n",
    "print(var)\n",
    "print(type(var))   # check the type \n",
    "print(var[2])  # accesiing through index number "
   ]
  },
  {
   "cell_type": "code",
   "execution_count": 54,
   "id": "51014b71-fd8f-4028-bbb0-dd31e8f4a510",
   "metadata": {},
   "outputs": [
    {
     "name": "stdout",
     "output_type": "stream",
     "text": [
      "Name    [python, c, c++, java]\n",
      "por           [12, 13, 14, 15]\n",
      "rank              [1, 4, 3, 2]\n",
      "dtype: object\n",
      "<class 'pandas.core.series.Series'>\n"
     ]
    }
   ],
   "source": [
    "# passing dictionary \n",
    "dic = {\"Name\": ['python','c','c++','java'],\"por\":[12,13,14,15],\"rank\":[1,4,3,2]}\n",
    "\n",
    "var1 = pd.Series(dic)\n",
    "#var1\n",
    "print(var1)\n",
    "print(type(var1))\n"
   ]
  },
  {
   "cell_type": "markdown",
   "id": "01858fa3-56e0-43e5-91be-38e57704364f",
   "metadata": {},
   "source": [
    "## Arithmetic operation "
   ]
  },
  {
   "cell_type": "code",
   "execution_count": 55,
   "id": "437ae988-a0dd-4011-a829-cd540b32248b",
   "metadata": {},
   "outputs": [
    {
     "data": {
      "text/html": [
       "<div>\n",
       "<style scoped>\n",
       "    .dataframe tbody tr th:only-of-type {\n",
       "        vertical-align: middle;\n",
       "    }\n",
       "\n",
       "    .dataframe tbody tr th {\n",
       "        vertical-align: top;\n",
       "    }\n",
       "\n",
       "    .dataframe thead th {\n",
       "        text-align: right;\n",
       "    }\n",
       "</style>\n",
       "<table border=\"1\" class=\"dataframe\">\n",
       "  <thead>\n",
       "    <tr style=\"text-align: right;\">\n",
       "      <th></th>\n",
       "      <th>A</th>\n",
       "      <th>B</th>\n",
       "    </tr>\n",
       "  </thead>\n",
       "  <tbody>\n",
       "    <tr>\n",
       "      <th>0</th>\n",
       "      <td>1</td>\n",
       "      <td>5</td>\n",
       "    </tr>\n",
       "    <tr>\n",
       "      <th>1</th>\n",
       "      <td>2</td>\n",
       "      <td>6</td>\n",
       "    </tr>\n",
       "    <tr>\n",
       "      <th>2</th>\n",
       "      <td>3</td>\n",
       "      <td>7</td>\n",
       "    </tr>\n",
       "    <tr>\n",
       "      <th>3</th>\n",
       "      <td>4</td>\n",
       "      <td>8</td>\n",
       "    </tr>\n",
       "  </tbody>\n",
       "</table>\n",
       "</div>"
      ],
      "text/plain": [
       "   A  B\n",
       "0  1  5\n",
       "1  2  6\n",
       "2  3  7\n",
       "3  4  8"
      ]
     },
     "execution_count": 55,
     "metadata": {},
     "output_type": "execute_result"
    }
   ],
   "source": [
    "import pandas as pd \n",
    "\n",
    "var = pd.DataFrame({\"A\":[1,2,3,4],\"B\":[5,6,7,8]})\n",
    "var                 "
   ]
  },
  {
   "cell_type": "code",
   "execution_count": 57,
   "id": "4ffa5ab3-543d-4b1c-bd12-13bc36dc33cd",
   "metadata": {},
   "outputs": [
    {
     "name": "stdout",
     "output_type": "stream",
     "text": [
      "   A  B   C\n",
      "0  1  5   6\n",
      "1  2  6   8\n",
      "2  3  7  10\n",
      "3  4  8  12\n"
     ]
    }
   ],
   "source": [
    "var[\"C\"] = var[\"A\"] + var[\"B\"]\n",
    "print(var)"
   ]
  },
  {
   "cell_type": "code",
   "execution_count": 58,
   "id": "0baa51f5-9eec-43fc-95b1-0a58b946dafd",
   "metadata": {},
   "outputs": [
    {
     "data": {
      "text/html": [
       "<div>\n",
       "<style scoped>\n",
       "    .dataframe tbody tr th:only-of-type {\n",
       "        vertical-align: middle;\n",
       "    }\n",
       "\n",
       "    .dataframe tbody tr th {\n",
       "        vertical-align: top;\n",
       "    }\n",
       "\n",
       "    .dataframe thead th {\n",
       "        text-align: right;\n",
       "    }\n",
       "</style>\n",
       "<table border=\"1\" class=\"dataframe\">\n",
       "  <thead>\n",
       "    <tr style=\"text-align: right;\">\n",
       "      <th></th>\n",
       "      <th>A</th>\n",
       "      <th>B</th>\n",
       "    </tr>\n",
       "  </thead>\n",
       "  <tbody>\n",
       "    <tr>\n",
       "      <th>0</th>\n",
       "      <td>10</td>\n",
       "      <td>15</td>\n",
       "    </tr>\n",
       "    <tr>\n",
       "      <th>1</th>\n",
       "      <td>20</td>\n",
       "      <td>16</td>\n",
       "    </tr>\n",
       "    <tr>\n",
       "      <th>2</th>\n",
       "      <td>30</td>\n",
       "      <td>17</td>\n",
       "    </tr>\n",
       "    <tr>\n",
       "      <th>3</th>\n",
       "      <td>40</td>\n",
       "      <td>18</td>\n",
       "    </tr>\n",
       "  </tbody>\n",
       "</table>\n",
       "</div>"
      ],
      "text/plain": [
       "    A   B\n",
       "0  10  15\n",
       "1  20  16\n",
       "2  30  17\n",
       "3  40  18"
      ]
     },
     "execution_count": 58,
     "metadata": {},
     "output_type": "execute_result"
    }
   ],
   "source": [
    "# for logical operation we use \n",
    "var1 = pd.DataFrame({\"A\":[10,20,30,40],\"B\":[15,16,17,18]})\n",
    "var1  "
   ]
  },
  {
   "cell_type": "code",
   "execution_count": 59,
   "id": "d430f0ed-e48a-4f43-a103-06d1510e5043",
   "metadata": {},
   "outputs": [
    {
     "data": {
      "text/html": [
       "<div>\n",
       "<style scoped>\n",
       "    .dataframe tbody tr th:only-of-type {\n",
       "        vertical-align: middle;\n",
       "    }\n",
       "\n",
       "    .dataframe tbody tr th {\n",
       "        vertical-align: top;\n",
       "    }\n",
       "\n",
       "    .dataframe thead th {\n",
       "        text-align: right;\n",
       "    }\n",
       "</style>\n",
       "<table border=\"1\" class=\"dataframe\">\n",
       "  <thead>\n",
       "    <tr style=\"text-align: right;\">\n",
       "      <th></th>\n",
       "      <th>A</th>\n",
       "      <th>B</th>\n",
       "      <th>Python</th>\n",
       "      <th>Python_1</th>\n",
       "    </tr>\n",
       "  </thead>\n",
       "  <tbody>\n",
       "    <tr>\n",
       "      <th>0</th>\n",
       "      <td>10</td>\n",
       "      <td>15</td>\n",
       "      <td>True</td>\n",
       "      <td>False</td>\n",
       "    </tr>\n",
       "    <tr>\n",
       "      <th>1</th>\n",
       "      <td>20</td>\n",
       "      <td>16</td>\n",
       "      <td>True</td>\n",
       "      <td>True</td>\n",
       "    </tr>\n",
       "    <tr>\n",
       "      <th>2</th>\n",
       "      <td>30</td>\n",
       "      <td>17</td>\n",
       "      <td>False</td>\n",
       "      <td>True</td>\n",
       "    </tr>\n",
       "    <tr>\n",
       "      <th>3</th>\n",
       "      <td>40</td>\n",
       "      <td>18</td>\n",
       "      <td>False</td>\n",
       "      <td>True</td>\n",
       "    </tr>\n",
       "  </tbody>\n",
       "</table>\n",
       "</div>"
      ],
      "text/plain": [
       "    A   B  Python  Python_1\n",
       "0  10  15    True     False\n",
       "1  20  16    True      True\n",
       "2  30  17   False      True\n",
       "3  40  18   False      True"
      ]
     },
     "execution_count": 59,
     "metadata": {},
     "output_type": "execute_result"
    }
   ],
   "source": [
    "var1[\"Python\"] = var1[\"A\"] <= 20\n",
    "var1[\"Python_1\"] = var1[\"B\"] >= 16\n",
    "var1"
   ]
  },
  {
   "cell_type": "code",
   "execution_count": null,
   "id": "ce7c063e-d398-482b-8468-b78152eac3a2",
   "metadata": {},
   "outputs": [],
   "source": []
  }
 ],
 "metadata": {
  "kernelspec": {
   "display_name": "Python 3 (ipykernel)",
   "language": "python",
   "name": "python3"
  },
  "language_info": {
   "codemirror_mode": {
    "name": "ipython",
    "version": 3
   },
   "file_extension": ".py",
   "mimetype": "text/x-python",
   "name": "python",
   "nbconvert_exporter": "python",
   "pygments_lexer": "ipython3",
   "version": "3.8.20"
  }
 },
 "nbformat": 4,
 "nbformat_minor": 5
}
