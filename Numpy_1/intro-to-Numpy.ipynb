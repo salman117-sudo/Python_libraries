{
 "cells": [
  {
   "cell_type": "code",
   "execution_count": 1,
   "id": "a7a8076f-f8c2-40e9-a9b3-2cbe4287af67",
   "metadata": {},
   "outputs": [
    {
     "name": "stdout",
     "output_type": "stream",
     "text": [
      "[10 20 30]\n",
      "[40 50 60]\n",
      "[50 70 90]\n"
     ]
    }
   ],
   "source": [
    "import numpy as np\n",
    "\n",
    "a = np.array([10,20,30])\n",
    "b = np.array([40,50,60])\n",
    "print(a)\n",
    "print(b)\n",
    "print(a+b) # it will add and array cannot be comma sepeated \n"
   ]
  },
  {
   "cell_type": "code",
   "execution_count": 2,
   "id": "7c319e65-afd2-465b-a140-aec40772cc3c",
   "metadata": {},
   "outputs": [
    {
     "name": "stdout",
     "output_type": "stream",
     "text": [
      "['10' '20' '30']\n"
     ]
    }
   ],
   "source": [
    "a = np.array([10,20,\"30\"])\n",
    "\n",
    "print(a) # we cannot use mix datatypes "
   ]
  },
  {
   "cell_type": "code",
   "execution_count": 3,
   "id": "39d2f736-ba0c-4c1d-b1ab-e5fcabbf73c4",
   "metadata": {},
   "outputs": [
    {
     "name": "stdout",
     "output_type": "stream",
     "text": [
      "[10. 20. 30.]\n"
     ]
    }
   ],
   "source": [
    "a = np.array([10,20,30.])\n",
    "print(a)"
   ]
  },
  {
   "cell_type": "code",
   "execution_count": null,
   "id": "0e34e91b-0c2b-4fc6-be58-11ade1ee8a42",
   "metadata": {},
   "outputs": [],
   "source": []
  },
  {
   "cell_type": "code",
   "execution_count": 4,
   "id": "8a3b3423-1db4-421f-95a6-b52ab9414db3",
   "metadata": {},
   "outputs": [
    {
     "name": "stdout",
     "output_type": "stream",
     "text": [
      "[10, 20, 30, 40, 50, 60]\n"
     ]
    }
   ],
   "source": [
    "l1 = [10,20,30]\n",
    "l2 = [40,50,60]\n",
    "print(l1+l2)   # it will cant add they will concenate because we pass as list  "
   ]
  },
  {
   "cell_type": "code",
   "execution_count": 5,
   "id": "e1d08785-12ca-420b-8c73-67e30f03fabb",
   "metadata": {},
   "outputs": [
    {
     "name": "stdout",
     "output_type": "stream",
     "text": [
      "[10, 20, 30, 10, 20, 30, 10, 20, 30, 10, 20, 30, 10, 20, 30]\n"
     ]
    }
   ],
   "source": [
    "l1 = [10,20,30]\n",
    "l2 = 5\n",
    "print(l1*l2)  # it will mix 5 times "
   ]
  },
  {
   "cell_type": "code",
   "execution_count": 6,
   "id": "4204257c-563d-489f-93f0-dddb1689e9b7",
   "metadata": {},
   "outputs": [
    {
     "name": "stdout",
     "output_type": "stream",
     "text": [
      "[[10, 11, 22], [44, 33, 55, 66]]\n"
     ]
    }
   ],
   "source": [
    "l3 = [[10,11,22],[44,33,55,66]]\n",
    "print(l3)"
   ]
  },
  {
   "cell_type": "code",
   "execution_count": 7,
   "id": "f6634a14-f361-41c7-b33e-2e340b2a4d5f",
   "metadata": {},
   "outputs": [],
   "source": [
    "## a = np.array([[10,11,22],[44,33,55,66]])\n",
    "##print(a) # this show error bcz size is not same "
   ]
  },
  {
   "cell_type": "markdown",
   "id": "12bdd0f4-fecc-4d2e-9924-f3582373afb7",
   "metadata": {},
   "source": [
    "## Numpy creating array, slicing  and attributes "
   ]
  },
  {
   "cell_type": "code",
   "execution_count": 8,
   "id": "70ed3458-8c1b-4fbf-81e7-f308d6fabf54",
   "metadata": {},
   "outputs": [],
   "source": [
    "import numpy as np"
   ]
  },
  {
   "cell_type": "code",
   "execution_count": 9,
   "id": "83e9e047-7ab1-4efb-9fec-e6290c5f16ca",
   "metadata": {},
   "outputs": [
    {
     "name": "stdout",
     "output_type": "stream",
     "text": [
      "[[11 22 33 44]\n",
      " [55 66 77 88]\n",
      " [12 13 14 15]]\n"
     ]
    }
   ],
   "source": [
    "arr = np.array([[11,22,33,44],[55,66,77,88],[12,13,14,15]]) # in array number of each element will same other wise it show error \n",
    "print(arr) # this is multi dim array"
   ]
  },
  {
   "cell_type": "code",
   "execution_count": 10,
   "id": "3da62af6-1ebd-4c28-b290-cb76da506bbc",
   "metadata": {},
   "outputs": [
    {
     "name": "stdout",
     "output_type": "stream",
     "text": [
      "<class 'numpy.ndarray'>\n"
     ]
    }
   ],
   "source": [
    "print(type(arr)) # checking the type of variable "
   ]
  },
  {
   "cell_type": "code",
   "execution_count": 11,
   "id": "d67e8295-f588-4118-bf88-7da0313a77ba",
   "metadata": {},
   "outputs": [
    {
     "name": "stdout",
     "output_type": "stream",
     "text": [
      "[100 200 300]\n"
     ]
    }
   ],
   "source": [
    "# silicing in arrya \n",
    "arr1 = np.array([100,200,300,400,500])\n",
    "print(arr1[0:3])  # if i write like this [0:] it will print all the elemenet  ,, # if i write [3:]  it will print 400 and 500\n",
    "                   # if i not define and access first three element so like this [:3] it will give me 100,200,300"
   ]
  },
  {
   "cell_type": "markdown",
   "id": "1e8260af-16b9-4167-a1b7-dff2f168f712",
   "metadata": {},
   "source": [
    "### Attributes "
   ]
  },
  {
   "cell_type": "code",
   "execution_count": 12,
   "id": "1575b28f-64d9-425e-a1b3-0b6edf6c78c9",
   "metadata": {},
   "outputs": [
    {
     "name": "stdout",
     "output_type": "stream",
     "text": [
      "[[100 200]\n",
      " [600 700]]\n",
      "[67 78]\n",
      "56\n",
      "(3, 5)\n",
      "15\n",
      "3\n",
      "2\n",
      "int32\n"
     ]
    }
   ],
   "source": [
    "arr1 = np.array([[100,200,300,400,500],[600,700,800,900,1000],[23,45,56,67,78]])\n",
    "print(arr1[0:2,0:2]) # multi dim silicing  ## if i write [0:2,0:3] it will show both 3,3, element \n",
    "print(arr1[2,3:5])  #[0,1:3] its mean from arry 1 zero is arry one start from 1:3, # if  [1,1:3] it will select 2nd array\n",
    "print(arr1[2,2])                   # if we acces single element from any array\n",
    "print(np.shape(arr1))     # it show 3 rowe and 5 column \n",
    "print(np.size(arr1))   # tell the  total array element \n",
    "print(len(arr1))       # tell the lenth of array they are nested  vlaues \n",
    "print(np.ndim(arr1))    # 2 dimensional array rows and column \n",
    "print(arr1.dtype)  # to check the datatypes of array. the data present in the array "
   ]
  },
  {
   "cell_type": "markdown",
   "id": "af5371e4-be48-4afd-8bac-d158ce49206e",
   "metadata": {},
   "source": [
    "### Inspecting an array "
   ]
  },
  {
   "cell_type": "code",
   "execution_count": 13,
   "id": "ef3b4554-bff7-4946-928d-75a2b1c4e8ef",
   "metadata": {},
   "outputs": [
    {
     "name": "stdout",
     "output_type": "stream",
     "text": [
      "[50 40 30 20 10]\n",
      "<class 'numpy.ndarray'>\n",
      "int32\n",
      "[50. 40. 30. 20. 10.]\n"
     ]
    }
   ],
   "source": [
    "import numpy as np \n",
    "a = [50,40,30,20,10]\n",
    "arr = np.array(a)\n",
    "print(arr)\n",
    "print(type(arr))         # datatype of varible \n",
    "print(arr.dtype)  \n",
    "print(arr.astype(float))   # convert the value from int to float  we use astype function \n",
    "                           # we can also convert into int to str and also vise  versa "
   ]
  },
  {
   "cell_type": "markdown",
   "id": "b4169bbe-20a7-4e24-85bc-2d0f5674fdc4",
   "metadata": {},
   "source": [
    "### Mathematical operation and function on array "
   ]
  },
  {
   "cell_type": "code",
   "execution_count": 14,
   "id": "c958c825-7c6d-46b0-8c17-ca9f2c8e7e75",
   "metadata": {},
   "outputs": [
    {
     "name": "stdout",
     "output_type": "stream",
     "text": [
      "[60 60 70 40 30]\n",
      "[60 60 70 40 30]\n"
     ]
    }
   ],
   "source": [
    "import numpy as np\n",
    "array1 = np.array([30,40,60,20,10])\n",
    "array2 = np.array([30,20,10,20,20])\n",
    "print(array1+array2)\n",
    "print(np.add(array1,array2)) # second method for addition "
   ]
  },
  {
   "cell_type": "code",
   "execution_count": 21,
   "id": "c0088212-7997-4b52-81eb-b7a2b561e1f2",
   "metadata": {},
   "outputs": [
    {
     "name": "stdout",
     "output_type": "stream",
     "text": [
      "[[60 60]\n",
      " [40 30]]\n",
      "[[60 60]\n",
      " [40 30]]\n"
     ]
    }
   ],
   "source": [
    "import numpy as np\n",
    "array1 = np.array([[30,40],[20,10]])  # 2D array\n",
    "array2 = np.array([[30,20],[20,20]])\n",
    "print(array1+array2)   # operation (+)\n",
    "print(np.add(array1,array2))     # function (add)"
   ]
  },
  {
   "cell_type": "code",
   "execution_count": 15,
   "id": "5d7da9bb-c183-4759-8267-93c42c8ef849",
   "metadata": {},
   "outputs": [
    {
     "name": "stdout",
     "output_type": "stream",
     "text": [
      "[[  0  20]\n",
      " [  0 -10]]\n",
      "[[  0  20]\n",
      " [  0 -10]]\n"
     ]
    }
   ],
   "source": [
    "import numpy as np\n",
    "array1 = np.array([[30,40],[20,10]])  # 2D array\n",
    "array2 = np.array([[30,20],[20,20]])\n",
    "print(array1-array2)                   # operation (-)\n",
    "print(np.subtract(array1,array2))       # function (subtract)"
   ]
  },
  {
   "cell_type": "code",
   "execution_count": 16,
   "id": "e10d2716-b981-4094-ba3b-fc9b6456c430",
   "metadata": {},
   "outputs": [
    {
     "name": "stdout",
     "output_type": "stream",
     "text": [
      "[[900 800]\n",
      " [400 200]]\n",
      "[[900 800]\n",
      " [400 200]]\n"
     ]
    }
   ],
   "source": [
    "import numpy as np\n",
    "array1 = np.array([[30,40],[20,10]])  # 2D array\n",
    "array2 = np.array([[30,20],[20,20]])\n",
    "print(array1*array2)\n",
    "print(np.multiply(array1,array2))"
   ]
  },
  {
   "cell_type": "code",
   "execution_count": 17,
   "id": "b53cf1f6-563c-463a-97ae-58a25463601c",
   "metadata": {},
   "outputs": [
    {
     "name": "stdout",
     "output_type": "stream",
     "text": [
      "[[1.  2. ]\n",
      " [1.  0.5]]\n",
      "[[1.  2. ]\n",
      " [1.  0.5]]\n"
     ]
    }
   ],
   "source": [
    "import numpy as np\n",
    "array1 = np.array([[30,40],[20,10]])  # 2D array\n",
    "array2 = np.array([[30,20],[20,20]])\n",
    "print(array1/array2)\n",
    "print(np.divide(array1,array2))"
   ]
  },
  {
   "cell_type": "code",
   "execution_count": 18,
   "id": "88cea790-b0c0-4693-b966-680401b8a43d",
   "metadata": {},
   "outputs": [
    {
     "name": "stdout",
     "output_type": "stream",
     "text": [
      "[ 9 16  4  1]\n"
     ]
    }
   ],
   "source": [
    "array1 = np.array([3,4,2,1])  # 2D array\n",
    "array2 = np.array([2])\n",
    "print(np.power(array1,array2))"
   ]
  },
  {
   "cell_type": "code",
   "execution_count": 19,
   "id": "15c3fb0b-8538-4e92-8006-0b792444b2c7",
   "metadata": {},
   "outputs": [
    {
     "name": "stdout",
     "output_type": "stream",
     "text": [
      "[3. 4. 2. 1.]\n"
     ]
    }
   ],
   "source": [
    "arr1 = np.array([9,16,4,1])\n",
    "print(np.sqrt(arr1))\n"
   ]
  },
  {
   "cell_type": "markdown",
   "id": "260836f2-c2ed-41a4-b928-9d786407c7c2",
   "metadata": {},
   "source": [
    "###  combining and splitting array"
   ]
  },
  {
   "cell_type": "code",
   "execution_count": 20,
   "id": "0ad507b3-0d16-4a01-b098-315dc92e37b0",
   "metadata": {},
   "outputs": [
    {
     "name": "stdout",
     "output_type": "stream",
     "text": [
      "[1, 2, 3, 4, 5, 6]\n"
     ]
    }
   ],
   "source": [
    "a = [1,2,3]  # in lisr they will mix  but i same operation on aray they will add up \n",
    "b = [4,5,6]\n",
    "print(a+b)"
   ]
  },
  {
   "cell_type": "code",
   "execution_count": 21,
   "id": "aabc59cb-c0e9-4b34-8029-de4e9f45596a",
   "metadata": {},
   "outputs": [
    {
     "name": "stdout",
     "output_type": "stream",
     "text": [
      "[11 22 33 44 55 66]\n"
     ]
    }
   ],
   "source": [
    "import numpy as np \n",
    "a1 = np.array([11,22,33])\n",
    "a2 = np.array([44,55,66])\n",
    "print(np.concatenate([a1,a2]))\n"
   ]
  },
  {
   "cell_type": "code",
   "execution_count": 22,
   "id": "37d85e06-8e17-4f43-861f-1461024452e0",
   "metadata": {},
   "outputs": [
    {
     "name": "stdout",
     "output_type": "stream",
     "text": [
      "[[30 40  5  5]\n",
      " [50 10  3  3]]\n"
     ]
    }
   ],
   "source": [
    "import numpy as np \n",
    "a1 = np.array([[30,40],[50,10]])\n",
    "a2 = np.array([[5,5],[3,3]])\n",
    "print(np.hstack([a1,a2]))  # hstack mean horizontal concetnation "
   ]
  },
  {
   "cell_type": "code",
   "execution_count": 23,
   "id": "f86a6190-ca6e-40ab-aad9-4e19172c3496",
   "metadata": {},
   "outputs": [
    {
     "name": "stdout",
     "output_type": "stream",
     "text": [
      "[[30 40]\n",
      " [50 10]\n",
      " [ 5  5]\n",
      " [ 3  3]]\n"
     ]
    }
   ],
   "source": [
    "import numpy as np \n",
    "a1 = np.array([[30,40],[50,10]])\n",
    "a2 = np.array([[5,5],[3,3]])\n",
    "print(np.vstack([a1,a2]))    # vertical cotcatenation "
   ]
  },
  {
   "cell_type": "markdown",
   "id": "6d9dd874-3644-4ed5-a53d-efe497ac0ba4",
   "metadata": {},
   "source": [
    "## Splitting "
   ]
  },
  {
   "cell_type": "code",
   "execution_count": 28,
   "id": "dd2b8e91-5680-4087-8c0e-4628bf36f278",
   "metadata": {},
   "outputs": [
    {
     "name": "stdout",
     "output_type": "stream",
     "text": [
      "[30 40]\n",
      "[array([20, 40]), array([30, 40]), array([10, 20])]\n",
      "[array([20, 40]), array([30, 40]), array([10]), array([20])]\n"
     ]
    }
   ],
   "source": [
    "a = np.array([20,40,30,40,10,20])\n",
    "b = (np.array_split(a,3))  # we will split the array into three part \n",
    "print(b[1]) \n",
    "print(b)\n",
    "c = (np.array_split(a,4))  # we will split the array into four part \n",
    "print(c)"
   ]
  },
  {
   "cell_type": "markdown",
   "id": "65f31e92-9e68-4104-a3fb-39646f9ee7fc",
   "metadata": {},
   "source": [
    "## Adding and removing element in the arrray "
   ]
  },
  {
   "cell_type": "code",
   "execution_count": 29,
   "id": "caa167f1-8b51-43ee-8774-05c14712c977",
   "metadata": {},
   "outputs": [
    {
     "name": "stdout",
     "output_type": "stream",
     "text": [
      "[20 40 60 80 90]\n"
     ]
    }
   ],
   "source": [
    "import numpy as np \n",
    "a = np.array([20,40,60,80])\n",
    "print(np.append(a,90)) # using append method we add an element in the last of the array"
   ]
  },
  {
   "cell_type": "code",
   "execution_count": 31,
   "id": "a7efbe47-f22a-46df-8e91-d90d38d2d860",
   "metadata": {},
   "outputs": [
    {
     "name": "stdout",
     "output_type": "stream",
     "text": [
      "[ 20  40  60  80  90 100]\n"
     ]
    }
   ],
   "source": [
    "import numpy as np \n",
    "a = np.array([[20,40],[60,80]]) # using multi dim then first he will convert in to one d array and then append\n",
    "print(np.append(a,[90,100])) # using append method we add an element in the last of the array\n"
   ]
  },
  {
   "cell_type": "code",
   "execution_count": 32,
   "id": "3e6eca51-4ca0-450f-aeae-28ad4bc2926f",
   "metadata": {},
   "outputs": [
    {
     "name": "stdout",
     "output_type": "stream",
     "text": [
      "[20 50 40 60 80]\n"
     ]
    }
   ],
   "source": [
    "import numpy as np \n",
    "a = np.array([20,40,60,80])\n",
    "print(np.insert(a,1,50)) # using insert method we add an element in the index number (array,index,value)"
   ]
  },
  {
   "cell_type": "code",
   "execution_count": 38,
   "id": "bbcbd3d2-15d9-4777-a43a-b93444453d3e",
   "metadata": {},
   "outputs": [
    {
     "name": "stdout",
     "output_type": "stream",
     "text": [
      "[[20 40]\n",
      " [50 60]\n",
      " [60 80]]\n"
     ]
    }
   ],
   "source": [
    "import numpy as np \n",
    "a = np.array([[20,40],[60,80]])\n",
    "print(np.insert(a,1,[50,60], axis=1)) # if i define axis = 1 it will add like this other wise it show 1d arrray or if i pass axis = 0 is show rows wise"
   ]
  },
  {
   "cell_type": "code",
   "execution_count": 43,
   "id": "81492733-f847-4d97-a3e0-69a5775c5b6f",
   "metadata": {},
   "outputs": [],
   "source": [
    "#print(np.delete(a,1)) # it will delete  from this "
   ]
  },
  {
   "cell_type": "code",
   "execution_count": 46,
   "id": "b532186f-3929-425b-809d-8bd1ff56a8c8",
   "metadata": {},
   "outputs": [
    {
     "name": "stdout",
     "output_type": "stream",
     "text": [
      "[[20 40]]\n"
     ]
    }
   ],
   "source": [
    "print(np.delete(a,1,axis=0))      # 0 mean rows wise delete and 1 means colunm wise delete the data "
   ]
  },
  {
   "cell_type": "code",
   "execution_count": 47,
   "id": "85a8020e-b01c-4905-a089-b91f1923b8b5",
   "metadata": {},
   "outputs": [
    {
     "name": "stdout",
     "output_type": "stream",
     "text": [
      "[[20]\n",
      " [60]]\n"
     ]
    }
   ],
   "source": [
    "print(np.delete(a,1,axis=1)) "
   ]
  },
  {
   "cell_type": "markdown",
   "id": "93c3731c-9b5b-4bee-838c-9f2176497e46",
   "metadata": {},
   "source": [
    "## Search, sort, and filter and array "
   ]
  },
  {
   "cell_type": "code",
   "execution_count": 49,
   "id": "9aedcfff-ad3f-4660-8f08-62f4158cbb02",
   "metadata": {},
   "outputs": [
    {
     "name": "stdout",
     "output_type": "stream",
     "text": [
      "[[ 4  7  8  9 12]\n",
      " [ 1  2  3  5  8]]\n"
     ]
    }
   ],
   "source": [
    "# sort method \n",
    "import numpy as np\n",
    "ar = np.array([[7,8,4,12,9],[2,8,5,1,3]])\n",
    "print(np.sort(ar)) # it will sort in ascendinf order "
   ]
  },
  {
   "cell_type": "code",
   "execution_count": 51,
   "id": "43995428-b322-4010-afba-495cbb8c8202",
   "metadata": {},
   "outputs": [
    {
     "name": "stdout",
     "output_type": "stream",
     "text": [
      "(array([1], dtype=int64),)\n",
      "(array([1, 4], dtype=int64),)\n"
     ]
    }
   ],
   "source": [
    "# search \n",
    "import numpy as np\n",
    "ar = np.array([3,4,1,7,8])\n",
    "s1 = np.where(ar == 4)\n",
    "print(s1) # it will seach and tell me the index number where he is located \n",
    "s2 = (np.where(ar % 2 == 0))  #that are divisble by 2 \n",
    "print(s2)"
   ]
  },
  {
   "cell_type": "code",
   "execution_count": 54,
   "id": "4816e66f-e30d-4e75-9e2e-4a36f360d49c",
   "metadata": {},
   "outputs": [
    {
     "name": "stdout",
     "output_type": "stream",
     "text": [
      "3\n"
     ]
    }
   ],
   "source": [
    "# using search sort function \n",
    "import numpy as np\n",
    "ar = np.array([1,2,3,4,5])  # using this we have only sorted array \n",
    "ss =np.searchsorted(ar,4)\n",
    "print(ss)"
   ]
  },
  {
   "cell_type": "code",
   "execution_count": 55,
   "id": "b56c1733-7494-4027-9210-26d6a16f3e38",
   "metadata": {},
   "outputs": [
    {
     "name": "stdout",
     "output_type": "stream",
     "text": [
      "[20 40]\n"
     ]
    }
   ],
   "source": [
    "# applying filter \n",
    "import numpy as np\n",
    "arr = np.array([20,30,40,50])\n",
    "fa = [True, False, True,False]\n",
    "new = arr[fa]\n",
    "print(new)"
   ]
  },
  {
   "cell_type": "code",
   "execution_count": 56,
   "id": "baff3a5f-2e61-4656-92da-e1ddd08d0c91",
   "metadata": {},
   "outputs": [
    {
     "name": "stdout",
     "output_type": "stream",
     "text": [
      "[40 50]\n"
     ]
    }
   ],
   "source": [
    "# applying filter  secod method \n",
    "import numpy as np\n",
    "arr = np.array([20,30,40,50])\n",
    "fa = arr>35\n",
    "new = arr[fa]\n",
    "print(new)"
   ]
  },
  {
   "cell_type": "markdown",
   "id": "64d44cb1-d0df-4ec5-8cb1-487075ebf660",
   "metadata": {},
   "source": [
    "## Aggregating function in the array  "
   ]
  },
  {
   "cell_type": "code",
   "execution_count": 63,
   "id": "cdd2c4e0-2bcf-4116-b075-9f0ce06fc2e6",
   "metadata": {},
   "outputs": [
    {
     "name": "stdout",
     "output_type": "stream",
     "text": [
      "190\n",
      "20\n",
      "70\n",
      "4\n",
      "47.5\n",
      "[ 20  60 120 190]\n",
      "[     20     800   48000 3360000]\n"
     ]
    }
   ],
   "source": [
    "import numpy as np\n",
    "arr1 = np.array([20,40,60,70])\n",
    "print(np.sum(arr1))\n",
    "print(np.min(arr1))\n",
    "print(np.max(arr1))\n",
    "print(np.size(arr1)) # total number of elemnt \n",
    "print(np.mean(arr1))\n",
    "print(np.cumsum(arr1))  # cumsum is cumalitive sum  20, 40+20=60,20+40+60=120, 20+40+60+70=190\n",
    "print(np.cumproduct(arr1)) "
   ]
  },
  {
   "cell_type": "code",
   "execution_count": 71,
   "id": "58574b40-275d-4411-90a9-9ee16c8a1fa1",
   "metadata": {},
   "outputs": [
    {
     "name": "stdout",
     "output_type": "stream",
     "text": [
      "[100 150 199 200 250 130] \n",
      " [10 50 30 40 30 10]\n",
      "\n",
      "31270\n"
     ]
    }
   ],
   "source": [
    "a =[ 100,150,199,200,250,130]\n",
    "b = [10,50,30,40,30,10]\n",
    "price = np.array(a)\n",
    "quantity = np.array(b)\n",
    "print(price,\"\\n\", quantity)\n",
    "print()\n",
    "c= np.cumprod([price,quantity],axis=0)\n",
    "print(c[1].sum())"
   ]
  },
  {
   "cell_type": "markdown",
   "id": "767fec34-430e-497a-82a3-29b6569119ff",
   "metadata": {},
   "source": [
    "##  Statistical function in array"
   ]
  },
  {
   "cell_type": "code",
   "execution_count": 7,
   "id": "581f5e15-7f7d-4422-b1af-3b2de1d9e013",
   "metadata": {},
   "outputs": [
    {
     "name": "stdout",
     "output_type": "stream",
     "text": [
      "176.0\n",
      "179.0\n",
      "200\n",
      "29.017236257093817\n",
      "842.0\n"
     ]
    }
   ],
   "source": [
    "import numpy as np \n",
    "import statistics as stats\n",
    "baked_food = [200,150,150,130,200,220,170,188]\n",
    "a = np.array(baked_food)\n",
    "print(np.mean(baked_food))   # sum of all the values / number of values \n",
    "print(np.median(baked_food))   # central values  after sorting\n",
    "print(stats.mode(baked_food))  # the most re-occured value \n",
    "print(np.std(baked_food))\n",
    "print(np.var(baked_food))  # standard deviation and varience tell the data spread "
   ]
  },
  {
   "cell_type": "code",
   "execution_count": 8,
   "id": "d8f1cd06-d09c-4f3c-8aab-15b89de267d6",
   "metadata": {},
   "outputs": [
    {
     "name": "stdout",
     "output_type": "stream",
     "text": [
      "[[1.         0.99015454]\n",
      " [0.99015454 1.        ]]\n"
     ]
    }
   ],
   "source": [
    "# -1 represent inversly proportional realtionship \n",
    "# 1 represent  proportional realtionship \n",
    "# 0 represent  no relation \n",
    "\n",
    "\n",
    "tobacco_consumption = [30,50,10,30,50,40]\n",
    "deaths = [100,120,70,100,120,112]\n",
    "print(np.corrcoef([tobacco_consumption, deaths]))"
   ]
  },
  {
   "cell_type": "code",
   "execution_count": null,
   "id": "f0312a5f-9cf6-4551-b0e4-28e3ecb6c14e",
   "metadata": {},
   "outputs": [],
   "source": []
  }
 ],
 "metadata": {
  "kernelspec": {
   "display_name": "Python 3 (ipykernel)",
   "language": "python",
   "name": "python3"
  },
  "language_info": {
   "codemirror_mode": {
    "name": "ipython",
    "version": 3
   },
   "file_extension": ".py",
   "mimetype": "text/x-python",
   "name": "python",
   "nbconvert_exporter": "python",
   "pygments_lexer": "ipython3",
   "version": "3.8.20"
  }
 },
 "nbformat": 4,
 "nbformat_minor": 5
}
